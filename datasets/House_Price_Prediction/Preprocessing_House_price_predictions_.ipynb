{
  "nbformat": 4,
  "nbformat_minor": 0,
  "metadata": {
    "colab": {
      "provenance": []
    },
    "kernelspec": {
      "name": "python3",
      "display_name": "Python 3"
    },
    "language_info": {
      "name": "python"
    }
  },
  "cells": [
    {
      "cell_type": "markdown",
      "source": [
        "# **House Price Prediction**\n",
        "\n",
        "Dataset Link: https://www.kaggle.com/competitions/house-prices-advanced-regression-techniques/overview\n",
        "\n",
        "\n",
        "NOTE: We will only use the training dataset as we need to evaluate the test set for all simulaitons."
      ],
      "metadata": {
        "id": "aaKJX6QzDshJ"
      }
    },
    {
      "cell_type": "markdown",
      "source": [
        "## Loading Libraries and Dataset"
      ],
      "metadata": {
        "id": "hSwL6zNjDCIm"
      }
    },
    {
      "cell_type": "code",
      "metadata": {
        "id": "JIHgtLnHEI3B"
      },
      "source": [
        "import numpy as np\n",
        "import pandas as pd\n",
        "import matplotlib.pyplot as plt\n",
        "import seaborn as sns\n",
        "%matplotlib inline"
      ],
      "execution_count": 5,
      "outputs": []
    },
    {
      "cell_type": "code",
      "metadata": {
        "id": "9Si_bkJ9kl6W",
        "colab": {
          "base_uri": "https://localhost:8080/"
        },
        "outputId": "b9dcc31c-ae15-4f5b-924a-2a91f244e30b"
      },
      "source": [
        "from google.colab import drive\n",
        "drive.mount('/content/drive')"
      ],
      "execution_count": 4,
      "outputs": [
        {
          "output_type": "stream",
          "name": "stdout",
          "text": [
            "Mounted at /content/drive\n"
          ]
        }
      ]
    },
    {
      "cell_type": "code",
      "metadata": {
        "id": "vW4gW3n8lu21",
        "colab": {
          "base_uri": "https://localhost:8080/"
        },
        "outputId": "9f59f1fb-b881-4836-f0e1-64ff80cec4d6"
      },
      "source": [
        "base_directoty = \"/content/drive/MyDrive/HyperLocal_Tuning/Regression_HLS/House_Price_Prediction/Dataset/\"\n",
        "\n",
        "path_train = base_directoty + \"train.csv\"\n",
        "# path_test = \"/content/drive/MyDrive/HyperLocal_Tuning/Regression_HLS/House_Price_Prediction/Dataset/test.csv\"\n",
        "\n",
        "train_df = pd.read_csv(path_train)\n",
        "# test_df = pd.read_csv(path_test)\n",
        "\n",
        "train_df.shape #, test_df.shape"
      ],
      "execution_count": 18,
      "outputs": [
        {
          "output_type": "execute_result",
          "data": {
            "text/plain": [
              "(1460, 81)"
            ]
          },
          "metadata": {},
          "execution_count": 18
        }
      ]
    },
    {
      "cell_type": "markdown",
      "source": [
        "## Null Value Check\n",
        "\n",
        "Checking the Null values in all columns in training dataset. We will drop columns with missing values over 80\\%."
      ],
      "metadata": {
        "id": "KnIYqtz9Ct_U"
      }
    },
    {
      "cell_type": "code",
      "source": [
        "import pandas as pd\n",
        "\n",
        "def NaN_Analysis(df):\n",
        "\n",
        "    # Calculate the number of NaN entries in each column\n",
        "    nan_counts = df.isna().sum()\n",
        "\n",
        "    # Filter columns with more than 0 NaN entries\n",
        "    columns_with_nan = nan_counts[nan_counts > 0]\n",
        "\n",
        "    # Calculate the percentage of NaN entries\n",
        "    total_rows = len(df)\n",
        "    nan_percentage = (columns_with_nan / total_rows) * 100\n",
        "\n",
        "    # Create a new DataFrame with the results\n",
        "    nan_summary = pd.DataFrame({\n",
        "        'NaN Count': columns_with_nan,\n",
        "        'NaN Percentage': nan_percentage\n",
        "    })\n",
        "\n",
        "    # Optional: reset index to have column names as a separate column\n",
        "    nan_summary.reset_index(inplace=True)\n",
        "    nan_summary.rename(columns={'index': 'Feature'}, inplace=True)\n",
        "\n",
        "    # Sort the DataFrame by 'NaN Percentage' in descending order\n",
        "    nan_summary_sorted = nan_summary.sort_values(by='NaN Percentage', ascending=False)\n",
        "\n",
        "    return nan_summary_sorted\n",
        "\n",
        "NaN_Analysis(train_df)"
      ],
      "metadata": {
        "colab": {
          "base_uri": "https://localhost:8080/",
          "height": 645
        },
        "id": "Ir6CV77XCO34",
        "outputId": "16f699ed-1b1c-4bc0-a6e1-b4d834ba7028"
      },
      "execution_count": 19,
      "outputs": [
        {
          "output_type": "execute_result",
          "data": {
            "text/plain": [
              "         Feature  NaN Count  NaN Percentage\n",
              "16        PoolQC       1453       99.520548\n",
              "18   MiscFeature       1406       96.301370\n",
              "1          Alley       1369       93.767123\n",
              "17         Fence       1179       80.753425\n",
              "2     MasVnrType        872       59.726027\n",
              "10   FireplaceQu        690       47.260274\n",
              "0    LotFrontage        259       17.739726\n",
              "11    GarageType         81        5.547945\n",
              "12   GarageYrBlt         81        5.547945\n",
              "13  GarageFinish         81        5.547945\n",
              "14    GarageQual         81        5.547945\n",
              "15    GarageCond         81        5.547945\n",
              "8   BsmtFinType2         38        2.602740\n",
              "6   BsmtExposure         38        2.602740\n",
              "7   BsmtFinType1         37        2.534247\n",
              "5       BsmtCond         37        2.534247\n",
              "4       BsmtQual         37        2.534247\n",
              "3     MasVnrArea          8        0.547945\n",
              "9     Electrical          1        0.068493"
            ],
            "text/html": [
              "\n",
              "  <div id=\"df-9d549e0a-72fa-4dc0-8552-8c4993d342e4\" class=\"colab-df-container\">\n",
              "    <div>\n",
              "<style scoped>\n",
              "    .dataframe tbody tr th:only-of-type {\n",
              "        vertical-align: middle;\n",
              "    }\n",
              "\n",
              "    .dataframe tbody tr th {\n",
              "        vertical-align: top;\n",
              "    }\n",
              "\n",
              "    .dataframe thead th {\n",
              "        text-align: right;\n",
              "    }\n",
              "</style>\n",
              "<table border=\"1\" class=\"dataframe\">\n",
              "  <thead>\n",
              "    <tr style=\"text-align: right;\">\n",
              "      <th></th>\n",
              "      <th>Feature</th>\n",
              "      <th>NaN Count</th>\n",
              "      <th>NaN Percentage</th>\n",
              "    </tr>\n",
              "  </thead>\n",
              "  <tbody>\n",
              "    <tr>\n",
              "      <th>16</th>\n",
              "      <td>PoolQC</td>\n",
              "      <td>1453</td>\n",
              "      <td>99.520548</td>\n",
              "    </tr>\n",
              "    <tr>\n",
              "      <th>18</th>\n",
              "      <td>MiscFeature</td>\n",
              "      <td>1406</td>\n",
              "      <td>96.301370</td>\n",
              "    </tr>\n",
              "    <tr>\n",
              "      <th>1</th>\n",
              "      <td>Alley</td>\n",
              "      <td>1369</td>\n",
              "      <td>93.767123</td>\n",
              "    </tr>\n",
              "    <tr>\n",
              "      <th>17</th>\n",
              "      <td>Fence</td>\n",
              "      <td>1179</td>\n",
              "      <td>80.753425</td>\n",
              "    </tr>\n",
              "    <tr>\n",
              "      <th>2</th>\n",
              "      <td>MasVnrType</td>\n",
              "      <td>872</td>\n",
              "      <td>59.726027</td>\n",
              "    </tr>\n",
              "    <tr>\n",
              "      <th>10</th>\n",
              "      <td>FireplaceQu</td>\n",
              "      <td>690</td>\n",
              "      <td>47.260274</td>\n",
              "    </tr>\n",
              "    <tr>\n",
              "      <th>0</th>\n",
              "      <td>LotFrontage</td>\n",
              "      <td>259</td>\n",
              "      <td>17.739726</td>\n",
              "    </tr>\n",
              "    <tr>\n",
              "      <th>11</th>\n",
              "      <td>GarageType</td>\n",
              "      <td>81</td>\n",
              "      <td>5.547945</td>\n",
              "    </tr>\n",
              "    <tr>\n",
              "      <th>12</th>\n",
              "      <td>GarageYrBlt</td>\n",
              "      <td>81</td>\n",
              "      <td>5.547945</td>\n",
              "    </tr>\n",
              "    <tr>\n",
              "      <th>13</th>\n",
              "      <td>GarageFinish</td>\n",
              "      <td>81</td>\n",
              "      <td>5.547945</td>\n",
              "    </tr>\n",
              "    <tr>\n",
              "      <th>14</th>\n",
              "      <td>GarageQual</td>\n",
              "      <td>81</td>\n",
              "      <td>5.547945</td>\n",
              "    </tr>\n",
              "    <tr>\n",
              "      <th>15</th>\n",
              "      <td>GarageCond</td>\n",
              "      <td>81</td>\n",
              "      <td>5.547945</td>\n",
              "    </tr>\n",
              "    <tr>\n",
              "      <th>8</th>\n",
              "      <td>BsmtFinType2</td>\n",
              "      <td>38</td>\n",
              "      <td>2.602740</td>\n",
              "    </tr>\n",
              "    <tr>\n",
              "      <th>6</th>\n",
              "      <td>BsmtExposure</td>\n",
              "      <td>38</td>\n",
              "      <td>2.602740</td>\n",
              "    </tr>\n",
              "    <tr>\n",
              "      <th>7</th>\n",
              "      <td>BsmtFinType1</td>\n",
              "      <td>37</td>\n",
              "      <td>2.534247</td>\n",
              "    </tr>\n",
              "    <tr>\n",
              "      <th>5</th>\n",
              "      <td>BsmtCond</td>\n",
              "      <td>37</td>\n",
              "      <td>2.534247</td>\n",
              "    </tr>\n",
              "    <tr>\n",
              "      <th>4</th>\n",
              "      <td>BsmtQual</td>\n",
              "      <td>37</td>\n",
              "      <td>2.534247</td>\n",
              "    </tr>\n",
              "    <tr>\n",
              "      <th>3</th>\n",
              "      <td>MasVnrArea</td>\n",
              "      <td>8</td>\n",
              "      <td>0.547945</td>\n",
              "    </tr>\n",
              "    <tr>\n",
              "      <th>9</th>\n",
              "      <td>Electrical</td>\n",
              "      <td>1</td>\n",
              "      <td>0.068493</td>\n",
              "    </tr>\n",
              "  </tbody>\n",
              "</table>\n",
              "</div>\n",
              "    <div class=\"colab-df-buttons\">\n",
              "\n",
              "  <div class=\"colab-df-container\">\n",
              "    <button class=\"colab-df-convert\" onclick=\"convertToInteractive('df-9d549e0a-72fa-4dc0-8552-8c4993d342e4')\"\n",
              "            title=\"Convert this dataframe to an interactive table.\"\n",
              "            style=\"display:none;\">\n",
              "\n",
              "  <svg xmlns=\"http://www.w3.org/2000/svg\" height=\"24px\" viewBox=\"0 -960 960 960\">\n",
              "    <path d=\"M120-120v-720h720v720H120Zm60-500h600v-160H180v160Zm220 220h160v-160H400v160Zm0 220h160v-160H400v160ZM180-400h160v-160H180v160Zm440 0h160v-160H620v160ZM180-180h160v-160H180v160Zm440 0h160v-160H620v160Z\"/>\n",
              "  </svg>\n",
              "    </button>\n",
              "\n",
              "  <style>\n",
              "    .colab-df-container {\n",
              "      display:flex;\n",
              "      gap: 12px;\n",
              "    }\n",
              "\n",
              "    .colab-df-convert {\n",
              "      background-color: #E8F0FE;\n",
              "      border: none;\n",
              "      border-radius: 50%;\n",
              "      cursor: pointer;\n",
              "      display: none;\n",
              "      fill: #1967D2;\n",
              "      height: 32px;\n",
              "      padding: 0 0 0 0;\n",
              "      width: 32px;\n",
              "    }\n",
              "\n",
              "    .colab-df-convert:hover {\n",
              "      background-color: #E2EBFA;\n",
              "      box-shadow: 0px 1px 2px rgba(60, 64, 67, 0.3), 0px 1px 3px 1px rgba(60, 64, 67, 0.15);\n",
              "      fill: #174EA6;\n",
              "    }\n",
              "\n",
              "    .colab-df-buttons div {\n",
              "      margin-bottom: 4px;\n",
              "    }\n",
              "\n",
              "    [theme=dark] .colab-df-convert {\n",
              "      background-color: #3B4455;\n",
              "      fill: #D2E3FC;\n",
              "    }\n",
              "\n",
              "    [theme=dark] .colab-df-convert:hover {\n",
              "      background-color: #434B5C;\n",
              "      box-shadow: 0px 1px 3px 1px rgba(0, 0, 0, 0.15);\n",
              "      filter: drop-shadow(0px 1px 2px rgba(0, 0, 0, 0.3));\n",
              "      fill: #FFFFFF;\n",
              "    }\n",
              "  </style>\n",
              "\n",
              "    <script>\n",
              "      const buttonEl =\n",
              "        document.querySelector('#df-9d549e0a-72fa-4dc0-8552-8c4993d342e4 button.colab-df-convert');\n",
              "      buttonEl.style.display =\n",
              "        google.colab.kernel.accessAllowed ? 'block' : 'none';\n",
              "\n",
              "      async function convertToInteractive(key) {\n",
              "        const element = document.querySelector('#df-9d549e0a-72fa-4dc0-8552-8c4993d342e4');\n",
              "        const dataTable =\n",
              "          await google.colab.kernel.invokeFunction('convertToInteractive',\n",
              "                                                    [key], {});\n",
              "        if (!dataTable) return;\n",
              "\n",
              "        const docLinkHtml = 'Like what you see? Visit the ' +\n",
              "          '<a target=\"_blank\" href=https://colab.research.google.com/notebooks/data_table.ipynb>data table notebook</a>'\n",
              "          + ' to learn more about interactive tables.';\n",
              "        element.innerHTML = '';\n",
              "        dataTable['output_type'] = 'display_data';\n",
              "        await google.colab.output.renderOutput(dataTable, element);\n",
              "        const docLink = document.createElement('div');\n",
              "        docLink.innerHTML = docLinkHtml;\n",
              "        element.appendChild(docLink);\n",
              "      }\n",
              "    </script>\n",
              "  </div>\n",
              "\n",
              "\n",
              "<div id=\"df-fd61735b-074e-4714-ac76-840d4b22a4df\">\n",
              "  <button class=\"colab-df-quickchart\" onclick=\"quickchart('df-fd61735b-074e-4714-ac76-840d4b22a4df')\"\n",
              "            title=\"Suggest charts\"\n",
              "            style=\"display:none;\">\n",
              "\n",
              "<svg xmlns=\"http://www.w3.org/2000/svg\" height=\"24px\"viewBox=\"0 0 24 24\"\n",
              "     width=\"24px\">\n",
              "    <g>\n",
              "        <path d=\"M19 3H5c-1.1 0-2 .9-2 2v14c0 1.1.9 2 2 2h14c1.1 0 2-.9 2-2V5c0-1.1-.9-2-2-2zM9 17H7v-7h2v7zm4 0h-2V7h2v10zm4 0h-2v-4h2v4z\"/>\n",
              "    </g>\n",
              "</svg>\n",
              "  </button>\n",
              "\n",
              "<style>\n",
              "  .colab-df-quickchart {\n",
              "      --bg-color: #E8F0FE;\n",
              "      --fill-color: #1967D2;\n",
              "      --hover-bg-color: #E2EBFA;\n",
              "      --hover-fill-color: #174EA6;\n",
              "      --disabled-fill-color: #AAA;\n",
              "      --disabled-bg-color: #DDD;\n",
              "  }\n",
              "\n",
              "  [theme=dark] .colab-df-quickchart {\n",
              "      --bg-color: #3B4455;\n",
              "      --fill-color: #D2E3FC;\n",
              "      --hover-bg-color: #434B5C;\n",
              "      --hover-fill-color: #FFFFFF;\n",
              "      --disabled-bg-color: #3B4455;\n",
              "      --disabled-fill-color: #666;\n",
              "  }\n",
              "\n",
              "  .colab-df-quickchart {\n",
              "    background-color: var(--bg-color);\n",
              "    border: none;\n",
              "    border-radius: 50%;\n",
              "    cursor: pointer;\n",
              "    display: none;\n",
              "    fill: var(--fill-color);\n",
              "    height: 32px;\n",
              "    padding: 0;\n",
              "    width: 32px;\n",
              "  }\n",
              "\n",
              "  .colab-df-quickchart:hover {\n",
              "    background-color: var(--hover-bg-color);\n",
              "    box-shadow: 0 1px 2px rgba(60, 64, 67, 0.3), 0 1px 3px 1px rgba(60, 64, 67, 0.15);\n",
              "    fill: var(--button-hover-fill-color);\n",
              "  }\n",
              "\n",
              "  .colab-df-quickchart-complete:disabled,\n",
              "  .colab-df-quickchart-complete:disabled:hover {\n",
              "    background-color: var(--disabled-bg-color);\n",
              "    fill: var(--disabled-fill-color);\n",
              "    box-shadow: none;\n",
              "  }\n",
              "\n",
              "  .colab-df-spinner {\n",
              "    border: 2px solid var(--fill-color);\n",
              "    border-color: transparent;\n",
              "    border-bottom-color: var(--fill-color);\n",
              "    animation:\n",
              "      spin 1s steps(1) infinite;\n",
              "  }\n",
              "\n",
              "  @keyframes spin {\n",
              "    0% {\n",
              "      border-color: transparent;\n",
              "      border-bottom-color: var(--fill-color);\n",
              "      border-left-color: var(--fill-color);\n",
              "    }\n",
              "    20% {\n",
              "      border-color: transparent;\n",
              "      border-left-color: var(--fill-color);\n",
              "      border-top-color: var(--fill-color);\n",
              "    }\n",
              "    30% {\n",
              "      border-color: transparent;\n",
              "      border-left-color: var(--fill-color);\n",
              "      border-top-color: var(--fill-color);\n",
              "      border-right-color: var(--fill-color);\n",
              "    }\n",
              "    40% {\n",
              "      border-color: transparent;\n",
              "      border-right-color: var(--fill-color);\n",
              "      border-top-color: var(--fill-color);\n",
              "    }\n",
              "    60% {\n",
              "      border-color: transparent;\n",
              "      border-right-color: var(--fill-color);\n",
              "    }\n",
              "    80% {\n",
              "      border-color: transparent;\n",
              "      border-right-color: var(--fill-color);\n",
              "      border-bottom-color: var(--fill-color);\n",
              "    }\n",
              "    90% {\n",
              "      border-color: transparent;\n",
              "      border-bottom-color: var(--fill-color);\n",
              "    }\n",
              "  }\n",
              "</style>\n",
              "\n",
              "  <script>\n",
              "    async function quickchart(key) {\n",
              "      const quickchartButtonEl =\n",
              "        document.querySelector('#' + key + ' button');\n",
              "      quickchartButtonEl.disabled = true;  // To prevent multiple clicks.\n",
              "      quickchartButtonEl.classList.add('colab-df-spinner');\n",
              "      try {\n",
              "        const charts = await google.colab.kernel.invokeFunction(\n",
              "            'suggestCharts', [key], {});\n",
              "      } catch (error) {\n",
              "        console.error('Error during call to suggestCharts:', error);\n",
              "      }\n",
              "      quickchartButtonEl.classList.remove('colab-df-spinner');\n",
              "      quickchartButtonEl.classList.add('colab-df-quickchart-complete');\n",
              "    }\n",
              "    (() => {\n",
              "      let quickchartButtonEl =\n",
              "        document.querySelector('#df-fd61735b-074e-4714-ac76-840d4b22a4df button');\n",
              "      quickchartButtonEl.style.display =\n",
              "        google.colab.kernel.accessAllowed ? 'block' : 'none';\n",
              "    })();\n",
              "  </script>\n",
              "</div>\n",
              "\n",
              "    </div>\n",
              "  </div>\n"
            ],
            "application/vnd.google.colaboratory.intrinsic+json": {
              "type": "dataframe",
              "summary": "{\n  \"name\": \"NaN_Analysis(train_df)\",\n  \"rows\": 19,\n  \"fields\": [\n    {\n      \"column\": \"Feature\",\n      \"properties\": {\n        \"dtype\": \"string\",\n        \"num_unique_values\": 19,\n        \"samples\": [\n          \"PoolQC\",\n          \"FireplaceQu\",\n          \"GarageCond\"\n        ],\n        \"semantic_type\": \"\",\n        \"description\": \"\"\n      }\n    },\n    {\n      \"column\": \"NaN Count\",\n      \"properties\": {\n        \"dtype\": \"number\",\n        \"std\": 551,\n        \"min\": 1,\n        \"max\": 1453,\n        \"num_unique_values\": 12,\n        \"samples\": [\n          8,\n          37,\n          1453\n        ],\n        \"semantic_type\": \"\",\n        \"description\": \"\"\n      }\n    },\n    {\n      \"column\": \"NaN Percentage\",\n      \"properties\": {\n        \"dtype\": \"number\",\n        \"std\": 37.75663816563765,\n        \"min\": 0.0684931506849315,\n        \"max\": 99.52054794520548,\n        \"num_unique_values\": 12,\n        \"samples\": [\n          0.547945205479452,\n          2.5342465753424657,\n          99.52054794520548\n        ],\n        \"semantic_type\": \"\",\n        \"description\": \"\"\n      }\n    }\n  ]\n}"
            }
          },
          "metadata": {},
          "execution_count": 19
        }
      ]
    },
    {
      "cell_type": "code",
      "source": [
        "# Dropping PoolQC, MiscFeature, Alley and Fence from datasets along with ID.\n",
        "train_df = train_df.drop(['Id','PoolQC','MiscFeature','Alley','Fence'],axis = 1)\n",
        "print(train_df.shape)"
      ],
      "metadata": {
        "colab": {
          "base_uri": "https://localhost:8080/"
        },
        "id": "cMIr3VcxBfib",
        "outputId": "ecb99ed5-9efe-4881-d8c5-0df9d072ebc0"
      },
      "execution_count": 20,
      "outputs": [
        {
          "output_type": "stream",
          "name": "stdout",
          "text": [
            "(1460, 76)\n"
          ]
        }
      ]
    },
    {
      "cell_type": "markdown",
      "source": [
        "## Handling Numerical and Categorical Features and Null Values"
      ],
      "metadata": {
        "id": "rgFWFzNrDOtL"
      }
    },
    {
      "cell_type": "code",
      "metadata": {
        "colab": {
          "base_uri": "https://localhost:8080/",
          "height": 178
        },
        "id": "n3HIUlYA8s6D",
        "outputId": "5533552c-a831-4204-c37f-4c46deb9dfc7"
      },
      "source": [
        "#print(train_df.info(memory_usage='deep'),test_df.info(memory_usage='deep'))\n",
        "train_dtype = train_df.dtypes\n",
        "train_dtype.value_counts()"
      ],
      "execution_count": 21,
      "outputs": [
        {
          "output_type": "execute_result",
          "data": {
            "text/plain": [
              "object     39\n",
              "int64      34\n",
              "float64     3\n",
              "Name: count, dtype: int64"
            ],
            "text/html": [
              "<table border=\"1\" class=\"dataframe\">\n",
              "  <thead>\n",
              "    <tr style=\"text-align: right;\">\n",
              "      <th></th>\n",
              "      <th>count</th>\n",
              "    </tr>\n",
              "  </thead>\n",
              "  <tbody>\n",
              "    <tr>\n",
              "      <th>object</th>\n",
              "      <td>39</td>\n",
              "    </tr>\n",
              "    <tr>\n",
              "      <th>int64</th>\n",
              "      <td>34</td>\n",
              "    </tr>\n",
              "    <tr>\n",
              "      <th>float64</th>\n",
              "      <td>3</td>\n",
              "    </tr>\n",
              "  </tbody>\n",
              "</table><br><label><b>dtype:</b> int64</label>"
            ]
          },
          "metadata": {},
          "execution_count": 21
        }
      ]
    },
    {
      "cell_type": "code",
      "source": [
        "# Feature Selection : Numerical and Categorical features\n",
        "numeric_data     = train_df.select_dtypes(include=[np.number])\n",
        "categorical_data = train_df.select_dtypes(exclude=[np.number])\n",
        "\n",
        "# y_train      = numeric_data['SalePrice']\n",
        "# numeric_data = numeric_data.drop(['SalePrice'], axis=1)\n",
        "\n",
        "print(numeric_data.shape, categorical_data.shape)"
      ],
      "metadata": {
        "colab": {
          "base_uri": "https://localhost:8080/"
        },
        "id": "ubR36MaHkYlY",
        "outputId": "083ee3f8-d682-4056-a7de-891c387aab84"
      },
      "execution_count": 22,
      "outputs": [
        {
          "output_type": "stream",
          "name": "stdout",
          "text": [
            "(1460, 37) (1460, 39)\n"
          ]
        }
      ]
    },
    {
      "cell_type": "markdown",
      "source": [
        "### Categorical Data: NaN Imputation and One-hot Encoding"
      ],
      "metadata": {
        "id": "Fie_wH2ZM_wI"
      }
    },
    {
      "cell_type": "code",
      "source": [
        "from sklearn.impute import SimpleImputer\n",
        "\n",
        "# IMPUTING SOME OF CATEGORICAL FEATURES WITH \"MISSING\" VALUE\n",
        "\n",
        "def new_fill(df, cols):\n",
        "    for col in cols:\n",
        "        df[col].fillna((f'Missing'), inplace=True)\n",
        "\n",
        "empty_cols = [ 'BsmtQual', 'BsmtCond', 'BsmtExposure', 'BsmtFinType1', 'BsmtFinType2', 'FireplaceQu', 'GarageType', 'GarageFinish', 'GarageQual', 'GarageCond']\n",
        "\n",
        "new_fill(categorical_data, empty_cols)\n",
        "\n",
        "# IMPUTING REST WITH MOST FREQUENT VALUES\n",
        "\n",
        "def impute_missing_values(df):\n",
        "    imputer = SimpleImputer(strategy='most_frequent')\n",
        "    df_imputed = pd.DataFrame(imputer.fit_transform(df), columns=df.columns)\n",
        "    return df_imputed\n",
        "\n",
        "# Function to perform one-hot encoding\n",
        "def one_hot_encode(df):\n",
        "    encoded_df = pd.get_dummies(df)\n",
        "    # Ensure all values are integers (0 or 1)\n",
        "    encoded_df = encoded_df.astype(int)\n",
        "    return encoded_df\n",
        "\n",
        "categorical_data       = impute_missing_values(categorical_data)  # Impute missing values\n",
        "final_categorical_data = one_hot_encode(categorical_data)         # One-hot encode the categorical data\n",
        "\n",
        "NaN_Analysis(categorical_data) # NO MISSING VALUES ANYMORE"
      ],
      "metadata": {
        "colab": {
          "base_uri": "https://localhost:8080/",
          "height": 53
        },
        "id": "V9ccLyMSGhTr",
        "outputId": "e7066b0b-b946-4a02-f99f-b92475e4e1ed"
      },
      "execution_count": 23,
      "outputs": [
        {
          "output_type": "execute_result",
          "data": {
            "text/plain": [
              "Empty DataFrame\n",
              "Columns: [Feature, NaN Count, NaN Percentage]\n",
              "Index: []"
            ],
            "text/html": [
              "\n",
              "  <div id=\"df-a22be49d-5ac2-428c-b436-372af1ec7c8d\" class=\"colab-df-container\">\n",
              "    <div>\n",
              "<style scoped>\n",
              "    .dataframe tbody tr th:only-of-type {\n",
              "        vertical-align: middle;\n",
              "    }\n",
              "\n",
              "    .dataframe tbody tr th {\n",
              "        vertical-align: top;\n",
              "    }\n",
              "\n",
              "    .dataframe thead th {\n",
              "        text-align: right;\n",
              "    }\n",
              "</style>\n",
              "<table border=\"1\" class=\"dataframe\">\n",
              "  <thead>\n",
              "    <tr style=\"text-align: right;\">\n",
              "      <th></th>\n",
              "      <th>Feature</th>\n",
              "      <th>NaN Count</th>\n",
              "      <th>NaN Percentage</th>\n",
              "    </tr>\n",
              "  </thead>\n",
              "  <tbody>\n",
              "  </tbody>\n",
              "</table>\n",
              "</div>\n",
              "    <div class=\"colab-df-buttons\">\n",
              "\n",
              "  <div class=\"colab-df-container\">\n",
              "    <button class=\"colab-df-convert\" onclick=\"convertToInteractive('df-a22be49d-5ac2-428c-b436-372af1ec7c8d')\"\n",
              "            title=\"Convert this dataframe to an interactive table.\"\n",
              "            style=\"display:none;\">\n",
              "\n",
              "  <svg xmlns=\"http://www.w3.org/2000/svg\" height=\"24px\" viewBox=\"0 -960 960 960\">\n",
              "    <path d=\"M120-120v-720h720v720H120Zm60-500h600v-160H180v160Zm220 220h160v-160H400v160Zm0 220h160v-160H400v160ZM180-400h160v-160H180v160Zm440 0h160v-160H620v160ZM180-180h160v-160H180v160Zm440 0h160v-160H620v160Z\"/>\n",
              "  </svg>\n",
              "    </button>\n",
              "\n",
              "  <style>\n",
              "    .colab-df-container {\n",
              "      display:flex;\n",
              "      gap: 12px;\n",
              "    }\n",
              "\n",
              "    .colab-df-convert {\n",
              "      background-color: #E8F0FE;\n",
              "      border: none;\n",
              "      border-radius: 50%;\n",
              "      cursor: pointer;\n",
              "      display: none;\n",
              "      fill: #1967D2;\n",
              "      height: 32px;\n",
              "      padding: 0 0 0 0;\n",
              "      width: 32px;\n",
              "    }\n",
              "\n",
              "    .colab-df-convert:hover {\n",
              "      background-color: #E2EBFA;\n",
              "      box-shadow: 0px 1px 2px rgba(60, 64, 67, 0.3), 0px 1px 3px 1px rgba(60, 64, 67, 0.15);\n",
              "      fill: #174EA6;\n",
              "    }\n",
              "\n",
              "    .colab-df-buttons div {\n",
              "      margin-bottom: 4px;\n",
              "    }\n",
              "\n",
              "    [theme=dark] .colab-df-convert {\n",
              "      background-color: #3B4455;\n",
              "      fill: #D2E3FC;\n",
              "    }\n",
              "\n",
              "    [theme=dark] .colab-df-convert:hover {\n",
              "      background-color: #434B5C;\n",
              "      box-shadow: 0px 1px 3px 1px rgba(0, 0, 0, 0.15);\n",
              "      filter: drop-shadow(0px 1px 2px rgba(0, 0, 0, 0.3));\n",
              "      fill: #FFFFFF;\n",
              "    }\n",
              "  </style>\n",
              "\n",
              "    <script>\n",
              "      const buttonEl =\n",
              "        document.querySelector('#df-a22be49d-5ac2-428c-b436-372af1ec7c8d button.colab-df-convert');\n",
              "      buttonEl.style.display =\n",
              "        google.colab.kernel.accessAllowed ? 'block' : 'none';\n",
              "\n",
              "      async function convertToInteractive(key) {\n",
              "        const element = document.querySelector('#df-a22be49d-5ac2-428c-b436-372af1ec7c8d');\n",
              "        const dataTable =\n",
              "          await google.colab.kernel.invokeFunction('convertToInteractive',\n",
              "                                                    [key], {});\n",
              "        if (!dataTable) return;\n",
              "\n",
              "        const docLinkHtml = 'Like what you see? Visit the ' +\n",
              "          '<a target=\"_blank\" href=https://colab.research.google.com/notebooks/data_table.ipynb>data table notebook</a>'\n",
              "          + ' to learn more about interactive tables.';\n",
              "        element.innerHTML = '';\n",
              "        dataTable['output_type'] = 'display_data';\n",
              "        await google.colab.output.renderOutput(dataTable, element);\n",
              "        const docLink = document.createElement('div');\n",
              "        docLink.innerHTML = docLinkHtml;\n",
              "        element.appendChild(docLink);\n",
              "      }\n",
              "    </script>\n",
              "  </div>\n",
              "\n",
              "\n",
              "    </div>\n",
              "  </div>\n"
            ],
            "application/vnd.google.colaboratory.intrinsic+json": {
              "type": "dataframe",
              "repr_error": "Out of range float values are not JSON compliant: nan"
            }
          },
          "metadata": {},
          "execution_count": 23
        }
      ]
    },
    {
      "cell_type": "markdown",
      "source": [
        "### Handling Numerical Data"
      ],
      "metadata": {
        "id": "R2VZyGEuUhBQ"
      }
    },
    {
      "cell_type": "code",
      "source": [
        "from sklearn.preprocessing import StandardScaler\n",
        "from sklearn.impute import KNNImputer\n",
        "from sklearn.model_selection import train_test_split"
      ],
      "metadata": {
        "id": "3MstXOiwXl7Z"
      },
      "execution_count": 24,
      "outputs": []
    },
    {
      "cell_type": "code",
      "source": [
        "def preprocess_numerical_data(X_train, X_test, target_column ):\n",
        "\n",
        "    # Initialize the StandardScaler\n",
        "    scaler = StandardScaler()\n",
        "\n",
        "    # Extract the target variable from the training data\n",
        "    y_train = X_train[target_column]\n",
        "    y_test  = X_test[target_column]\n",
        "\n",
        "    # Drop the target variable from the training data\n",
        "    X_train = X_train.drop(target_column, axis=1)\n",
        "    X_test  = X_test.drop(target_column, axis=1)\n",
        "\n",
        "    # Fit the scaler on the training data and transform the training data\n",
        "    X_train_scaled = scaler.fit_transform(X_train)\n",
        "    # Transform the test data\n",
        "    X_test_scaled = scaler.transform(X_test)\n",
        "\n",
        "    # KNN Imputation\n",
        "    imputer = KNNImputer(n_neighbors=10)\n",
        "\n",
        "    X_train_imputed = imputer.fit_transform(X_train_scaled)\n",
        "    X_test_imputed = imputer.transform(X_test_scaled)\n",
        "\n",
        "    X_train_imputed = pd.DataFrame(X_train_imputed, columns=X_train.columns)\n",
        "    X_test_imputed = pd.DataFrame(X_test_imputed, columns=X_test.columns)\n",
        "\n",
        "    # Convert the imputed arrays back to DataFrames\n",
        "    X_train_final = pd.concat([X_train_imputed.reset_index(drop=True), pd.Series(y_train.reset_index(drop=True), name=target_column)], axis=1)\n",
        "    X_test_final = pd.concat([X_test_imputed.reset_index(drop=True), pd.Series(y_test.reset_index(drop=True), name=target_column)], axis=1)\n",
        "\n",
        "    return X_train_final, X_test_final"
      ],
      "metadata": {
        "id": "QOUnS749VMJb"
      },
      "execution_count": 25,
      "outputs": []
    },
    {
      "cell_type": "code",
      "source": [
        "categorical_data_columns = list(final_categorical_data.columns)\n",
        "# Splitting the data into training and testing sets\n",
        "full_dataset    = pd.concat([numeric_data, final_categorical_data], axis=1)\n",
        "X_train, X_test = train_test_split(full_dataset, test_size=0.2, random_state=42)\n",
        "\n",
        "# Remove categorical column from both train and test datesets after saving them separately\n",
        "X_train_categorical =  X_train[categorical_data_columns]\n",
        "X_test_categorical  =  X_test[categorical_data_columns]\n",
        "\n",
        "X_train = X_train.drop(categorical_data_columns, axis=1)\n",
        "X_test  = X_test.drop(categorical_data_columns, axis=1)\n",
        "\n",
        "# print(X_train.shape)\n",
        "\n",
        "X_train_numerical_processed, X_test_numerical_processed = preprocess_numerical_data(X_train, X_test, target_column='SalePrice')\n",
        "\n",
        "X_train_final = pd.concat([X_train_numerical_processed, X_train_categorical.reset_index(drop=True)], axis=1)\n",
        "X_test_final  = pd.concat([X_test_numerical_processed, X_test_categorical.reset_index(drop=True)], axis=1)\n",
        "\n",
        "print(X_train_final.shape, X_test_final.shape)"
      ],
      "metadata": {
        "colab": {
          "base_uri": "https://localhost:8080/"
        },
        "id": "Zb_UDo6oUjAd",
        "outputId": "bc6213ae-c9cc-432e-bdfa-22c31d83cdc3"
      },
      "execution_count": 26,
      "outputs": [
        {
          "output_type": "stream",
          "name": "stdout",
          "text": [
            "(1168, 285) (292, 285)\n"
          ]
        }
      ]
    },
    {
      "cell_type": "code",
      "source": [
        "import pickle\n",
        "\n",
        "### SAVING THE DATA\n",
        "\n",
        "y_df_train = X_train_final['SalePrice']\n",
        "x_df_train = X_train_final.drop('SalePrice',axis=1)\n",
        "y_df_test  = X_test_final['SalePrice']\n",
        "x_df_test  = X_test_final.drop('SalePrice',axis=1)\n",
        "\n",
        "x_train, x_val, y_train, y_val = train_test_split(x_df_train, y_df_train, test_size=0.2, random_state=42)\n",
        "\n",
        "print( x_train.shape, x_val.shape, y_train.shape, y_val.shape, x_df_test.shape, y_df_test.shape  )\n",
        "\n",
        "full_data = { \"x_train\": x_train, \"x_val\": x_val, \"x_test\": x_df_test, \"y_train\": y_train, \"y_val\": y_val, \"y_test\": y_df_test }\n",
        "\n",
        "with open(base_directoty + 'house_price_prediction.pickle', 'wb') as handle:\n",
        "    pickle.dump( full_data, handle, protocol=pickle.HIGHEST_PROTOCOL)"
      ],
      "metadata": {
        "colab": {
          "base_uri": "https://localhost:8080/"
        },
        "id": "6ijPdN5Paibn",
        "outputId": "b11e4740-015f-4436-837c-e16c8d2456cd"
      },
      "execution_count": 29,
      "outputs": [
        {
          "output_type": "stream",
          "name": "stdout",
          "text": [
            "(934, 284) (234, 284) (934,) (234,) (292, 284) (292,)\n"
          ]
        }
      ]
    },
    {
      "cell_type": "code",
      "source": [],
      "metadata": {
        "id": "Nd3KH3e5iPXd"
      },
      "execution_count": null,
      "outputs": []
    }
  ]
}
